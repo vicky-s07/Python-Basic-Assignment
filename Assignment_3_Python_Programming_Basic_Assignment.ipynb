{
 "cells": [
  {
   "cell_type": "markdown",
   "metadata": {},
   "source": [
    "#Ans-1\n",
    "\n",
    "Advantaggeous of Function \n",
    "1.Reuseability\n",
    "2.modularity\n",
    "3.to create own functions\n",
    "4.reduce duplicate code\n"
   ]
  },
  {
   "cell_type": "markdown",
   "metadata": {},
   "source": [
    "#Ans-2\n",
    "\n",
    "when functions are called it runs."
   ]
  },
  {
   "cell_type": "markdown",
   "metadata": {},
   "source": [
    "#Ans-3\n",
    "\n",
    "A function is created with the def keyword."
   ]
  },
  {
   "cell_type": "markdown",
   "metadata": {},
   "source": [
    "#Ans-4\n",
    "\n",
    "A function is procedure to achieve a particular result while function call is using this function to achive that task."
   ]
  },
  {
   "cell_type": "markdown",
   "metadata": {},
   "source": [
    "#Ans-5\n",
    "\n",
    "There's only one global Python scope per program execution. This scope remains in existence until the program terminates and all its names are forgotten."
   ]
  },
  {
   "cell_type": "markdown",
   "metadata": {},
   "source": [
    "#Ans-6\n",
    "\n",
    "When the execution of the function terminates (returns), the local variables are destroyed. ... So it is not possible for a function to set some local variable to a value, complete its execution, and then when it is called again next time, recover the local variable."
   ]
  },
  {
   "cell_type": "markdown",
   "metadata": {},
   "source": [
    "#Ans-7\n",
    "\n",
    "A return statement is used to end the execution of the function call and “returns” the result (value of the expression following the return keyword) to the caller.\n",
    "yes it is possible to have return in expression"
   ]
  },
  {
   "cell_type": "markdown",
   "metadata": {},
   "source": [
    "#Ans-8 \n",
    " \n",
    " If there is no return statement in the function code, the function ends, when the control flow reaches the end of the function body and the value None will be returned."
   ]
  },
  {
   "cell_type": "markdown",
   "metadata": {},
   "source": [
    "#Ans-9\n",
    "\n",
    "To make function variable as a global variable use GLOBAL keyword before the variable name.\n",
    "Eg:\n",
    "a = 15\n",
    "def fun():\n",
    "    global a\n",
    "    a+=5 \n",
    "    print(\"Value of x inside a function :\", x)\n",
    "fun()\n",
    "print(\"Value of x outside a function :\", x)"
   ]
  },
  {
   "cell_type": "markdown",
   "metadata": {},
   "source": [
    "#Ans-10\n",
    "\n",
    "Datatype of None is NONETYPE"
   ]
  },
  {
   "cell_type": "markdown",
   "metadata": {},
   "source": [
    "#Ans-11\n",
    "\n",
    "that import statement imports a module named areallyourpetsnamederic. (This isn’t a real Python module, by the way.)"
   ]
  },
  {
   "cell_type": "markdown",
   "metadata": {},
   "source": [
    "#Ans-12\n",
    "\n",
    "This function can be called with spam.bacon()."
   ]
  },
  {
   "cell_type": "markdown",
   "metadata": {},
   "source": [
    "#Ans-13\n",
    "\n",
    "to place the line of code that might cause an error in a try clause"
   ]
  },
  {
   "cell_type": "markdown",
   "metadata": {},
   "source": [
    "#Ans-14\n",
    "\n",
    "The code that could potentially cause an error goes in the try clause.\n",
    "\n",
    "The code that executes if an error happens goes in the except clause."
   ]
  }
 ],
 "metadata": {
  "kernelspec": {
   "display_name": "Python 3",
   "language": "python",
   "name": "python3"
  },
  "language_info": {
   "codemirror_mode": {
    "name": "ipython",
    "version": 3
   },
   "file_extension": ".py",
   "mimetype": "text/x-python",
   "name": "python",
   "nbconvert_exporter": "python",
   "pygments_lexer": "ipython3",
   "version": "3.8.5"
  }
 },
 "nbformat": 4,
 "nbformat_minor": 4
}
