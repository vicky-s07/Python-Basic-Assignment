{
 "cells": [
  {
   "cell_type": "markdown",
   "metadata": {},
   "source": [
    "# Assignment_1"
   ]
  },
  {
   "cell_type": "markdown",
   "metadata": {},
   "source": [
    "Ans-1\n",
    "\n",
    "1) * = operator\n",
    "2) 'hello'= value\n",
    "3) -87.8 = value\n",
    "4) - = operator\n",
    "5) / = operator\n",
    "6) + = operator\n",
    "7) 6 = value"
   ]
  },
  {
   "cell_type": "markdown",
   "metadata": {},
   "source": [
    "Ans-2\n",
    "\n",
    "A variable is basically the name of the location in the primary memory of the computer. This can be chosen by us. A variable can store everything from strings to numbers. A string is the values inside the quotes assigned to a string."
   ]
  },
  {
   "cell_type": "markdown",
   "metadata": {},
   "source": [
    "Ans-3\n",
    "\n",
    "1. String\n",
    "2. Integer\n",
    "3. Float\n"
   ]
  },
  {
   "cell_type": "markdown",
   "metadata": {},
   "source": [
    "Ans-4\n",
    "\n",
    "An expression is a construct made up of variables, operators, and method invocations, which are constructed according to the syntax of the language, that evaluates to a single value."
   ]
  },
  {
   "cell_type": "markdown",
   "metadata": {},
   "source": [
    "Ans-5\n",
    "\n",
    "An expression evaluates to a single value. A statement does not."
   ]
  },
  {
   "cell_type": "markdown",
   "metadata": {},
   "source": [
    "Ans-6\n",
    "\n",
    "bacon will contain 22 only"
   ]
  },
  {
   "cell_type": "markdown",
   "metadata": {},
   "source": [
    "Ans-7\n",
    "\n",
    "'spam' + 'spamspam' = spamspamspam\n",
    "'spam' * 3 = spamspamspam\n"
   ]
  },
  {
   "cell_type": "markdown",
   "metadata": {},
   "source": [
    "Ans-8\n",
    "\n",
    "Cannot assign to literal"
   ]
  },
  {
   "cell_type": "markdown",
   "metadata": {},
   "source": [
    "Ans-9\n",
    "\n",
    "The int() , float() , and str( ) functions will evaluate to the integer, floating-point number, and string versions of the value passed to them."
   ]
  },
  {
   "cell_type": "markdown",
   "metadata": {},
   "source": [
    "Ans-10\n",
    "\n",
    "Because concatenation of string to integer is not possible, string to string concatenation is possible\n",
    "\n",
    "'I have eaten ' + ‘99’ + ' burritos.'  Converting into string as shown\n"
   ]
  }
 ],
 "metadata": {
  "kernelspec": {
   "display_name": "Python 3",
   "language": "python",
   "name": "python3"
  },
  "language_info": {
   "codemirror_mode": {
    "name": "ipython",
    "version": 3
   },
   "file_extension": ".py",
   "mimetype": "text/x-python",
   "name": "python",
   "nbconvert_exporter": "python",
   "pygments_lexer": "ipython3",
   "version": "3.8.5"
  }
 },
 "nbformat": 4,
 "nbformat_minor": 4
}
